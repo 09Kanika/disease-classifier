{
 "cells": [
  {
   "cell_type": "code",
   "execution_count": 1,
   "metadata": {},
   "outputs": [],
   "source": [
    "import pandas as pd\n",
    "import numpy as np\n",
    "import matplotlib.pyplot as plt\n",
    "%matplotlib inline\n",
    "from matplotlib import style\n",
    "import warnings\n",
    "warnings.filterwarnings(\"ignore\")"
   ]
  },
  {
   "cell_type": "code",
   "execution_count": 2,
   "metadata": {},
   "outputs": [
    {
     "data": {
      "text/html": [
       "<div>\n",
       "<style scoped>\n",
       "    .dataframe tbody tr th:only-of-type {\n",
       "        vertical-align: middle;\n",
       "    }\n",
       "\n",
       "    .dataframe tbody tr th {\n",
       "        vertical-align: top;\n",
       "    }\n",
       "\n",
       "    .dataframe thead th {\n",
       "        text-align: right;\n",
       "    }\n",
       "</style>\n",
       "<table border=\"1\" class=\"dataframe\">\n",
       "  <thead>\n",
       "    <tr style=\"text-align: right;\">\n",
       "      <th></th>\n",
       "      <th>abdominal_pain</th>\n",
       "      <th>abnormal_menstruation</th>\n",
       "      <th>acidity</th>\n",
       "      <th>acute_liver_failure</th>\n",
       "      <th>altered_sensorium</th>\n",
       "      <th>anxiety</th>\n",
       "      <th>back_pain</th>\n",
       "      <th>belly_pain</th>\n",
       "      <th>blackheads</th>\n",
       "      <th>bladder_discomfort</th>\n",
       "      <th>...</th>\n",
       "      <th>weakness_in_limbs</th>\n",
       "      <th>weakness_of_one_body_side</th>\n",
       "      <th>weight_gain</th>\n",
       "      <th>weight_loss</th>\n",
       "      <th>yellow_crust_ooze</th>\n",
       "      <th>yellow_urine</th>\n",
       "      <th>yellowing_of_eyes</th>\n",
       "      <th>yellowish_skin</th>\n",
       "      <th>prognosis</th>\n",
       "      <th>symptoms</th>\n",
       "    </tr>\n",
       "  </thead>\n",
       "  <tbody>\n",
       "    <tr>\n",
       "      <th>25</th>\n",
       "      <td>0</td>\n",
       "      <td>1</td>\n",
       "      <td>0</td>\n",
       "      <td>0</td>\n",
       "      <td>0</td>\n",
       "      <td>0</td>\n",
       "      <td>0</td>\n",
       "      <td>0</td>\n",
       "      <td>0</td>\n",
       "      <td>0</td>\n",
       "      <td>...</td>\n",
       "      <td>0</td>\n",
       "      <td>0</td>\n",
       "      <td>0</td>\n",
       "      <td>1</td>\n",
       "      <td>0</td>\n",
       "      <td>0</td>\n",
       "      <td>0</td>\n",
       "      <td>0</td>\n",
       "      <td>Hyperthyroidism</td>\n",
       "      <td>11</td>\n",
       "    </tr>\n",
       "  </tbody>\n",
       "</table>\n",
       "<p>1 rows × 136 columns</p>\n",
       "</div>"
      ],
      "text/plain": [
       "    abdominal_pain  abnormal_menstruation  acidity  acute_liver_failure  \\\n",
       "25               0                      1        0                    0   \n",
       "\n",
       "    altered_sensorium  anxiety  back_pain  belly_pain  blackheads  \\\n",
       "25                  0        0          0           0           0   \n",
       "\n",
       "    bladder_discomfort  ...  weakness_in_limbs  weakness_of_one_body_side  \\\n",
       "25                   0  ...                  0                          0   \n",
       "\n",
       "    weight_gain  weight_loss  yellow_crust_ooze  yellow_urine  \\\n",
       "25            0            1                  0             0   \n",
       "\n",
       "    yellowing_of_eyes  yellowish_skin        prognosis  symptoms  \n",
       "25                  0               0  Hyperthyroidism        11  \n",
       "\n",
       "[1 rows x 136 columns]"
      ]
     },
     "execution_count": 2,
     "metadata": {},
     "output_type": "execute_result"
    }
   ],
   "source": [
    "data=pd.read_csv(\"files/Training.csv\")\n",
    "data.head()\n",
    "\n",
    "test = pd.read_csv(\"files/Testing.csv\", index_col=[0])\n",
    "test.sample()"
   ]
  },
  {
   "cell_type": "code",
   "execution_count": 3,
   "metadata": {},
   "outputs": [
    {
     "data": {
      "text/plain": [
       "(306, 135)"
      ]
     },
     "execution_count": 3,
     "metadata": {},
     "output_type": "execute_result"
    }
   ],
   "source": [
    "data.shape"
   ]
  },
  {
   "cell_type": "code",
   "execution_count": 4,
   "metadata": {},
   "outputs": [],
   "source": [
    "data[\"prognosis\"] = data[\"prognosis\"].apply(lambda x: x.replace(\"Paralysis (brain hemorrhageH\", \"Paralysis (brain hemorrhage)\"))"
   ]
  },
  {
   "cell_type": "code",
   "execution_count": 5,
   "metadata": {},
   "outputs": [
    {
     "name": "stdout",
     "output_type": "stream",
     "text": [
      "prognosis\n"
     ]
    }
   ],
   "source": [
    "new_data = data.copy()\n",
    "for i in new_data.columns :\n",
    "    if new_data[i].dtype=='object':\n",
    "        print(i)"
   ]
  },
  {
   "cell_type": "code",
   "execution_count": 6,
   "metadata": {},
   "outputs": [
    {
     "data": {
      "text/plain": [
       "Dengue                           10\n",
       "Hepatitis D                      10\n",
       "Chicken pox                      10\n",
       "Migraine                         10\n",
       "Diabetes                          9\n",
       "Hypoglycemia                      9\n",
       "Hepatitis B                       9\n",
       "Hepatitis A                       9\n",
       "Jaundice                          9\n",
       "Hyperthyroidism                   9\n",
       "Hepatitis E                       9\n",
       "Common Cold                       9\n",
       "Pneumonia                         9\n",
       "Tuberculosis                      9\n",
       "Typhoid                           9\n",
       "Chronic cholestasis               8\n",
       "Malaria                           8\n",
       "Hypothyroidism                    8\n",
       "Alcoholic hepatitis               8\n",
       "Varicose veins                    8\n",
       "Peptic ulcer disease              7\n",
       "Paroxysmal Positional Vertigo     7\n",
       "Osteoarthritis                    7\n",
       "Psoriasis                         7\n",
       "Hepatitis C                       7\n",
       "GERD                              7\n",
       "Bronchial Asthma                  7\n",
       "Hypertension                      6\n",
       "Cervical spondylosis              6\n",
       "Impetigo                          6\n",
       "Arthritis                         6\n",
       "Drug Reaction                     6\n",
       "Dimorphic hemorrhoids(piles)      6\n",
       "Urinary tract infection           5\n",
       "Allergy                           5\n",
       "Paralysis (brain hemorrhage)      5\n",
       "Acne                              5\n",
       "Fungal infection                  5\n",
       "Gastroenteritis                   5\n",
       "Heart attack                      5\n",
       "AIDS                              5\n",
       "Covid                             2\n",
       "Name: prognosis, dtype: int64"
      ]
     },
     "execution_count": 6,
     "metadata": {},
     "output_type": "execute_result"
    }
   ],
   "source": [
    "new_data[\"prognosis\"].value_counts()"
   ]
  },
  {
   "cell_type": "code",
   "execution_count": 7,
   "metadata": {},
   "outputs": [
    {
     "data": {
      "text/plain": [
       "array(['AIDS', 'Acne', 'Alcoholic hepatitis', 'Allergy', 'Arthritis',\n",
       "       'Bronchial Asthma', 'Cervical spondylosis', 'Chicken pox',\n",
       "       'Chronic cholestasis', 'Common Cold', 'Covid', 'Dengue',\n",
       "       'Diabetes ', 'Dimorphic hemorrhoids(piles)', 'Drug Reaction',\n",
       "       'Fungal infection', 'GERD', 'Gastroenteritis', 'Heart attack',\n",
       "       'Hepatitis A', 'Hepatitis B', 'Hepatitis C', 'Hepatitis D',\n",
       "       'Hepatitis E', 'Hypertension ', 'Hyperthyroidism', 'Hypoglycemia',\n",
       "       'Hypothyroidism', 'Impetigo', 'Jaundice', 'Malaria', 'Migraine',\n",
       "       'Osteoarthritis', 'Paralysis (brain hemorrhage)',\n",
       "       'Paroxysmal Positional Vertigo', 'Peptic ulcer disease',\n",
       "       'Pneumonia', 'Psoriasis', 'Tuberculosis', 'Typhoid',\n",
       "       'Urinary tract infection', 'Varicose veins'], dtype=object)"
      ]
     },
     "execution_count": 7,
     "metadata": {},
     "output_type": "execute_result"
    }
   ],
   "source": [
    "dis = new_data.prognosis.unique()\n",
    "dis"
   ]
  },
  {
   "cell_type": "code",
   "execution_count": 8,
   "metadata": {},
   "outputs": [
    {
     "data": {
      "text/html": [
       "<div>\n",
       "<style scoped>\n",
       "    .dataframe tbody tr th:only-of-type {\n",
       "        vertical-align: middle;\n",
       "    }\n",
       "\n",
       "    .dataframe tbody tr th {\n",
       "        vertical-align: top;\n",
       "    }\n",
       "\n",
       "    .dataframe thead th {\n",
       "        text-align: right;\n",
       "    }\n",
       "</style>\n",
       "<table border=\"1\" class=\"dataframe\">\n",
       "  <thead>\n",
       "    <tr style=\"text-align: right;\">\n",
       "      <th></th>\n",
       "      <th>abdominal_pain</th>\n",
       "      <th>abnormal_menstruation</th>\n",
       "      <th>acidity</th>\n",
       "      <th>acute_liver_failure</th>\n",
       "      <th>altered_sensorium</th>\n",
       "      <th>anxiety</th>\n",
       "      <th>back_pain</th>\n",
       "      <th>belly_pain</th>\n",
       "      <th>blackheads</th>\n",
       "      <th>bladder_discomfort</th>\n",
       "      <th>...</th>\n",
       "      <th>weakness_in_limbs</th>\n",
       "      <th>weakness_of_one_body_side</th>\n",
       "      <th>weight_gain</th>\n",
       "      <th>weight_loss</th>\n",
       "      <th>yellow_crust_ooze</th>\n",
       "      <th>yellow_urine</th>\n",
       "      <th>yellowing_of_eyes</th>\n",
       "      <th>yellowish_skin</th>\n",
       "      <th>prognosis</th>\n",
       "      <th>symptoms</th>\n",
       "    </tr>\n",
       "  </thead>\n",
       "  <tbody>\n",
       "    <tr>\n",
       "      <th>13</th>\n",
       "      <td>1</td>\n",
       "      <td>0</td>\n",
       "      <td>0</td>\n",
       "      <td>0</td>\n",
       "      <td>0</td>\n",
       "      <td>0</td>\n",
       "      <td>0</td>\n",
       "      <td>0</td>\n",
       "      <td>0</td>\n",
       "      <td>0</td>\n",
       "      <td>...</td>\n",
       "      <td>0</td>\n",
       "      <td>0</td>\n",
       "      <td>0</td>\n",
       "      <td>0</td>\n",
       "      <td>0</td>\n",
       "      <td>0</td>\n",
       "      <td>0</td>\n",
       "      <td>1</td>\n",
       "      <td>Alcoholic hepatitis</td>\n",
       "      <td>6</td>\n",
       "    </tr>\n",
       "  </tbody>\n",
       "</table>\n",
       "<p>1 rows × 136 columns</p>\n",
       "</div>"
      ],
      "text/plain": [
       "    abdominal_pain  abnormal_menstruation  acidity  acute_liver_failure  \\\n",
       "13               1                      0        0                    0   \n",
       "\n",
       "    altered_sensorium  anxiety  back_pain  belly_pain  blackheads  \\\n",
       "13                  0        0          0           0           0   \n",
       "\n",
       "    bladder_discomfort  ...  weakness_in_limbs  weakness_of_one_body_side  \\\n",
       "13                   0  ...                  0                          0   \n",
       "\n",
       "    weight_gain  weight_loss  yellow_crust_ooze  yellow_urine  \\\n",
       "13            0            0                  0             0   \n",
       "\n",
       "    yellowing_of_eyes  yellowish_skin            prognosis  symptoms  \n",
       "13                  0               1  Alcoholic hepatitis         6  \n",
       "\n",
       "[1 rows x 136 columns]"
      ]
     },
     "execution_count": 8,
     "metadata": {},
     "output_type": "execute_result"
    }
   ],
   "source": [
    "col = new_data.columns\n",
    "new_data[\"symptoms\"] = new_data[col].sum(axis=1)\n",
    "new_data.sample()"
   ]
  },
  {
   "cell_type": "code",
   "execution_count": 9,
   "metadata": {},
   "outputs": [
    {
     "data": {
      "text/plain": [
       "(306, 136)"
      ]
     },
     "execution_count": 9,
     "metadata": {},
     "output_type": "execute_result"
    }
   ],
   "source": [
    "new_data.shape"
   ]
  },
  {
   "cell_type": "code",
   "execution_count": 10,
   "metadata": {},
   "outputs": [
    {
     "name": "stdout",
     "output_type": "stream",
     "text": [
      "{'AIDS': 0, 'Acne': 1, 'Alcoholic hepatitis': 2, 'Allergy': 3, 'Arthritis': 4, 'Bronchial Asthma': 5, 'Cervical spondylosis': 6, 'Chicken pox': 7, 'Chronic cholestasis': 8, 'Common Cold': 9, 'Covid': 10, 'Dengue': 11, 'Diabetes ': 12, 'Dimorphic hemorrhoids(piles)': 13, 'Drug Reaction': 14, 'Fungal infection': 15, 'GERD': 16, 'Gastroenteritis': 17, 'Heart attack': 18, 'Hepatitis A': 19, 'Hepatitis B': 20, 'Hepatitis C': 21, 'Hepatitis D': 22, 'Hepatitis E': 23, 'Hypertension ': 24, 'Hyperthyroidism': 25, 'Hypoglycemia': 26, 'Hypothyroidism': 27, 'Impetigo': 28, 'Jaundice': 29, 'Malaria': 30, 'Migraine': 31, 'Osteoarthritis': 32, 'Paralysis (brain hemorrhage)': 33, 'Paroxysmal Positional Vertigo': 34, 'Peptic ulcer disease': 35, 'Pneumonia': 36, 'Psoriasis': 37, 'Tuberculosis': 38, 'Typhoid': 39, 'Urinary tract infection': 40, 'Varicose veins': 41}\n"
     ]
    }
   ],
   "source": [
    "num=[i for i in range(len(dis))]\n",
    "dic=dict(zip(dis,num))\n",
    "print(dic)"
   ]
  },
  {
   "cell_type": "code",
   "execution_count": 11,
   "metadata": {},
   "outputs": [
    {
     "data": {
      "text/html": [
       "<div>\n",
       "<style scoped>\n",
       "    .dataframe tbody tr th:only-of-type {\n",
       "        vertical-align: middle;\n",
       "    }\n",
       "\n",
       "    .dataframe tbody tr th {\n",
       "        vertical-align: top;\n",
       "    }\n",
       "\n",
       "    .dataframe thead th {\n",
       "        text-align: right;\n",
       "    }\n",
       "</style>\n",
       "<table border=\"1\" class=\"dataframe\">\n",
       "  <thead>\n",
       "    <tr style=\"text-align: right;\">\n",
       "      <th></th>\n",
       "      <th>abdominal_pain</th>\n",
       "      <th>abnormal_menstruation</th>\n",
       "      <th>acidity</th>\n",
       "      <th>acute_liver_failure</th>\n",
       "      <th>altered_sensorium</th>\n",
       "      <th>anxiety</th>\n",
       "      <th>back_pain</th>\n",
       "      <th>belly_pain</th>\n",
       "      <th>blackheads</th>\n",
       "      <th>bladder_discomfort</th>\n",
       "      <th>...</th>\n",
       "      <th>weakness_in_limbs</th>\n",
       "      <th>weakness_of_one_body_side</th>\n",
       "      <th>weight_gain</th>\n",
       "      <th>weight_loss</th>\n",
       "      <th>yellow_crust_ooze</th>\n",
       "      <th>yellow_urine</th>\n",
       "      <th>yellowing_of_eyes</th>\n",
       "      <th>yellowish_skin</th>\n",
       "      <th>prognosis</th>\n",
       "      <th>symptoms</th>\n",
       "    </tr>\n",
       "  </thead>\n",
       "  <tbody>\n",
       "    <tr>\n",
       "      <th>0</th>\n",
       "      <td>0</td>\n",
       "      <td>0</td>\n",
       "      <td>0</td>\n",
       "      <td>0</td>\n",
       "      <td>0</td>\n",
       "      <td>0</td>\n",
       "      <td>0</td>\n",
       "      <td>0</td>\n",
       "      <td>0</td>\n",
       "      <td>0</td>\n",
       "      <td>...</td>\n",
       "      <td>0</td>\n",
       "      <td>0</td>\n",
       "      <td>0</td>\n",
       "      <td>0</td>\n",
       "      <td>0</td>\n",
       "      <td>0</td>\n",
       "      <td>0</td>\n",
       "      <td>0</td>\n",
       "      <td>0</td>\n",
       "      <td>4</td>\n",
       "    </tr>\n",
       "    <tr>\n",
       "      <th>1</th>\n",
       "      <td>0</td>\n",
       "      <td>0</td>\n",
       "      <td>0</td>\n",
       "      <td>0</td>\n",
       "      <td>0</td>\n",
       "      <td>0</td>\n",
       "      <td>0</td>\n",
       "      <td>0</td>\n",
       "      <td>0</td>\n",
       "      <td>0</td>\n",
       "      <td>...</td>\n",
       "      <td>0</td>\n",
       "      <td>0</td>\n",
       "      <td>0</td>\n",
       "      <td>0</td>\n",
       "      <td>0</td>\n",
       "      <td>0</td>\n",
       "      <td>0</td>\n",
       "      <td>0</td>\n",
       "      <td>0</td>\n",
       "      <td>3</td>\n",
       "    </tr>\n",
       "    <tr>\n",
       "      <th>2</th>\n",
       "      <td>0</td>\n",
       "      <td>0</td>\n",
       "      <td>0</td>\n",
       "      <td>0</td>\n",
       "      <td>0</td>\n",
       "      <td>0</td>\n",
       "      <td>0</td>\n",
       "      <td>0</td>\n",
       "      <td>0</td>\n",
       "      <td>0</td>\n",
       "      <td>...</td>\n",
       "      <td>0</td>\n",
       "      <td>0</td>\n",
       "      <td>0</td>\n",
       "      <td>0</td>\n",
       "      <td>0</td>\n",
       "      <td>0</td>\n",
       "      <td>0</td>\n",
       "      <td>0</td>\n",
       "      <td>0</td>\n",
       "      <td>3</td>\n",
       "    </tr>\n",
       "  </tbody>\n",
       "</table>\n",
       "<p>3 rows × 136 columns</p>\n",
       "</div>"
      ],
      "text/plain": [
       "   abdominal_pain  abnormal_menstruation  acidity  acute_liver_failure  \\\n",
       "0               0                      0        0                    0   \n",
       "1               0                      0        0                    0   \n",
       "2               0                      0        0                    0   \n",
       "\n",
       "   altered_sensorium  anxiety  back_pain  belly_pain  blackheads  \\\n",
       "0                  0        0          0           0           0   \n",
       "1                  0        0          0           0           0   \n",
       "2                  0        0          0           0           0   \n",
       "\n",
       "   bladder_discomfort  ...  weakness_in_limbs  weakness_of_one_body_side  \\\n",
       "0                   0  ...                  0                          0   \n",
       "1                   0  ...                  0                          0   \n",
       "2                   0  ...                  0                          0   \n",
       "\n",
       "   weight_gain  weight_loss  yellow_crust_ooze  yellow_urine  \\\n",
       "0            0            0                  0             0   \n",
       "1            0            0                  0             0   \n",
       "2            0            0                  0             0   \n",
       "\n",
       "   yellowing_of_eyes  yellowish_skin  prognosis  symptoms  \n",
       "0                  0               0          0         4  \n",
       "1                  0               0          0         3  \n",
       "2                  0               0          0         3  \n",
       "\n",
       "[3 rows x 136 columns]"
      ]
     },
     "execution_count": 11,
     "metadata": {},
     "output_type": "execute_result"
    }
   ],
   "source": [
    "new_data.replace({'prognosis':dic}, inplace=True)\n",
    "test.replace({'prognosis':dic}, inplace=True)\n",
    "new_data.head(3)"
   ]
  },
  {
   "cell_type": "code",
   "execution_count": 12,
   "metadata": {},
   "outputs": [],
   "source": [
    "import seaborn as sns"
   ]
  },
  {
   "cell_type": "code",
   "execution_count": 13,
   "metadata": {},
   "outputs": [],
   "source": [
    "X=new_data.drop(columns=\"prognosis\")\n",
    "y=new_data.prognosis"
   ]
  },
  {
   "cell_type": "code",
   "execution_count": 14,
   "metadata": {},
   "outputs": [],
   "source": [
    "from sklearn.model_selection import train_test_split"
   ]
  },
  {
   "cell_type": "code",
   "execution_count": 15,
   "metadata": {},
   "outputs": [],
   "source": [
    "X_train, X_test , y_train, y_test = X, test.drop(\"prognosis\", axis=1), y, test.prognosis"
   ]
  },
  {
   "cell_type": "code",
   "execution_count": 16,
   "metadata": {},
   "outputs": [],
   "source": [
    "import plotly.graph_objects as go"
   ]
  },
  {
   "cell_type": "code",
   "execution_count": 17,
   "metadata": {},
   "outputs": [
    {
     "data": {
      "application/vnd.plotly.v1+json": {
       "config": {
        "plotlyServerURL": "https://plot.ly"
       },
       "data": [
        {
         "orientation": "h",
         "type": "bar",
         "x": [
          10,
          10,
          10,
          10,
          9,
          9,
          9,
          9,
          9,
          9,
          9,
          9,
          9,
          9,
          9,
          8,
          8,
          8,
          8,
          8,
          7,
          7,
          7,
          7,
          7,
          7,
          7,
          6,
          6,
          6,
          6,
          6,
          6,
          5,
          5,
          5,
          5,
          5,
          5,
          5,
          5,
          2
         ],
         "y": [
          11,
          22,
          7,
          31,
          12,
          26,
          20,
          19,
          29,
          25,
          23,
          9,
          36,
          38,
          39,
          8,
          30,
          27,
          2,
          41,
          35,
          34,
          32,
          37,
          21,
          16,
          5,
          24,
          6,
          28,
          4,
          14,
          13,
          40,
          3,
          33,
          1,
          15,
          17,
          18,
          0,
          10
         ]
        }
       ],
       "layout": {
        "height": 1000,
        "template": {
         "data": {
          "bar": [
           {
            "error_x": {
             "color": "#2a3f5f"
            },
            "error_y": {
             "color": "#2a3f5f"
            },
            "marker": {
             "line": {
              "color": "#E5ECF6",
              "width": 0.5
             },
             "pattern": {
              "fillmode": "overlay",
              "size": 10,
              "solidity": 0.2
             }
            },
            "type": "bar"
           }
          ],
          "barpolar": [
           {
            "marker": {
             "line": {
              "color": "#E5ECF6",
              "width": 0.5
             },
             "pattern": {
              "fillmode": "overlay",
              "size": 10,
              "solidity": 0.2
             }
            },
            "type": "barpolar"
           }
          ],
          "carpet": [
           {
            "aaxis": {
             "endlinecolor": "#2a3f5f",
             "gridcolor": "white",
             "linecolor": "white",
             "minorgridcolor": "white",
             "startlinecolor": "#2a3f5f"
            },
            "baxis": {
             "endlinecolor": "#2a3f5f",
             "gridcolor": "white",
             "linecolor": "white",
             "minorgridcolor": "white",
             "startlinecolor": "#2a3f5f"
            },
            "type": "carpet"
           }
          ],
          "choropleth": [
           {
            "colorbar": {
             "outlinewidth": 0,
             "ticks": ""
            },
            "type": "choropleth"
           }
          ],
          "contour": [
           {
            "colorbar": {
             "outlinewidth": 0,
             "ticks": ""
            },
            "colorscale": [
             [
              0,
              "#0d0887"
             ],
             [
              0.1111111111111111,
              "#46039f"
             ],
             [
              0.2222222222222222,
              "#7201a8"
             ],
             [
              0.3333333333333333,
              "#9c179e"
             ],
             [
              0.4444444444444444,
              "#bd3786"
             ],
             [
              0.5555555555555556,
              "#d8576b"
             ],
             [
              0.6666666666666666,
              "#ed7953"
             ],
             [
              0.7777777777777778,
              "#fb9f3a"
             ],
             [
              0.8888888888888888,
              "#fdca26"
             ],
             [
              1,
              "#f0f921"
             ]
            ],
            "type": "contour"
           }
          ],
          "contourcarpet": [
           {
            "colorbar": {
             "outlinewidth": 0,
             "ticks": ""
            },
            "type": "contourcarpet"
           }
          ],
          "heatmap": [
           {
            "colorbar": {
             "outlinewidth": 0,
             "ticks": ""
            },
            "colorscale": [
             [
              0,
              "#0d0887"
             ],
             [
              0.1111111111111111,
              "#46039f"
             ],
             [
              0.2222222222222222,
              "#7201a8"
             ],
             [
              0.3333333333333333,
              "#9c179e"
             ],
             [
              0.4444444444444444,
              "#bd3786"
             ],
             [
              0.5555555555555556,
              "#d8576b"
             ],
             [
              0.6666666666666666,
              "#ed7953"
             ],
             [
              0.7777777777777778,
              "#fb9f3a"
             ],
             [
              0.8888888888888888,
              "#fdca26"
             ],
             [
              1,
              "#f0f921"
             ]
            ],
            "type": "heatmap"
           }
          ],
          "heatmapgl": [
           {
            "colorbar": {
             "outlinewidth": 0,
             "ticks": ""
            },
            "colorscale": [
             [
              0,
              "#0d0887"
             ],
             [
              0.1111111111111111,
              "#46039f"
             ],
             [
              0.2222222222222222,
              "#7201a8"
             ],
             [
              0.3333333333333333,
              "#9c179e"
             ],
             [
              0.4444444444444444,
              "#bd3786"
             ],
             [
              0.5555555555555556,
              "#d8576b"
             ],
             [
              0.6666666666666666,
              "#ed7953"
             ],
             [
              0.7777777777777778,
              "#fb9f3a"
             ],
             [
              0.8888888888888888,
              "#fdca26"
             ],
             [
              1,
              "#f0f921"
             ]
            ],
            "type": "heatmapgl"
           }
          ],
          "histogram": [
           {
            "marker": {
             "pattern": {
              "fillmode": "overlay",
              "size": 10,
              "solidity": 0.2
             }
            },
            "type": "histogram"
           }
          ],
          "histogram2d": [
           {
            "colorbar": {
             "outlinewidth": 0,
             "ticks": ""
            },
            "colorscale": [
             [
              0,
              "#0d0887"
             ],
             [
              0.1111111111111111,
              "#46039f"
             ],
             [
              0.2222222222222222,
              "#7201a8"
             ],
             [
              0.3333333333333333,
              "#9c179e"
             ],
             [
              0.4444444444444444,
              "#bd3786"
             ],
             [
              0.5555555555555556,
              "#d8576b"
             ],
             [
              0.6666666666666666,
              "#ed7953"
             ],
             [
              0.7777777777777778,
              "#fb9f3a"
             ],
             [
              0.8888888888888888,
              "#fdca26"
             ],
             [
              1,
              "#f0f921"
             ]
            ],
            "type": "histogram2d"
           }
          ],
          "histogram2dcontour": [
           {
            "colorbar": {
             "outlinewidth": 0,
             "ticks": ""
            },
            "colorscale": [
             [
              0,
              "#0d0887"
             ],
             [
              0.1111111111111111,
              "#46039f"
             ],
             [
              0.2222222222222222,
              "#7201a8"
             ],
             [
              0.3333333333333333,
              "#9c179e"
             ],
             [
              0.4444444444444444,
              "#bd3786"
             ],
             [
              0.5555555555555556,
              "#d8576b"
             ],
             [
              0.6666666666666666,
              "#ed7953"
             ],
             [
              0.7777777777777778,
              "#fb9f3a"
             ],
             [
              0.8888888888888888,
              "#fdca26"
             ],
             [
              1,
              "#f0f921"
             ]
            ],
            "type": "histogram2dcontour"
           }
          ],
          "mesh3d": [
           {
            "colorbar": {
             "outlinewidth": 0,
             "ticks": ""
            },
            "type": "mesh3d"
           }
          ],
          "parcoords": [
           {
            "line": {
             "colorbar": {
              "outlinewidth": 0,
              "ticks": ""
             }
            },
            "type": "parcoords"
           }
          ],
          "pie": [
           {
            "automargin": true,
            "type": "pie"
           }
          ],
          "scatter": [
           {
            "fillpattern": {
             "fillmode": "overlay",
             "size": 10,
             "solidity": 0.2
            },
            "type": "scatter"
           }
          ],
          "scatter3d": [
           {
            "line": {
             "colorbar": {
              "outlinewidth": 0,
              "ticks": ""
             }
            },
            "marker": {
             "colorbar": {
              "outlinewidth": 0,
              "ticks": ""
             }
            },
            "type": "scatter3d"
           }
          ],
          "scattercarpet": [
           {
            "marker": {
             "colorbar": {
              "outlinewidth": 0,
              "ticks": ""
             }
            },
            "type": "scattercarpet"
           }
          ],
          "scattergeo": [
           {
            "marker": {
             "colorbar": {
              "outlinewidth": 0,
              "ticks": ""
             }
            },
            "type": "scattergeo"
           }
          ],
          "scattergl": [
           {
            "marker": {
             "colorbar": {
              "outlinewidth": 0,
              "ticks": ""
             }
            },
            "type": "scattergl"
           }
          ],
          "scattermapbox": [
           {
            "marker": {
             "colorbar": {
              "outlinewidth": 0,
              "ticks": ""
             }
            },
            "type": "scattermapbox"
           }
          ],
          "scatterpolar": [
           {
            "marker": {
             "colorbar": {
              "outlinewidth": 0,
              "ticks": ""
             }
            },
            "type": "scatterpolar"
           }
          ],
          "scatterpolargl": [
           {
            "marker": {
             "colorbar": {
              "outlinewidth": 0,
              "ticks": ""
             }
            },
            "type": "scatterpolargl"
           }
          ],
          "scatterternary": [
           {
            "marker": {
             "colorbar": {
              "outlinewidth": 0,
              "ticks": ""
             }
            },
            "type": "scatterternary"
           }
          ],
          "surface": [
           {
            "colorbar": {
             "outlinewidth": 0,
             "ticks": ""
            },
            "colorscale": [
             [
              0,
              "#0d0887"
             ],
             [
              0.1111111111111111,
              "#46039f"
             ],
             [
              0.2222222222222222,
              "#7201a8"
             ],
             [
              0.3333333333333333,
              "#9c179e"
             ],
             [
              0.4444444444444444,
              "#bd3786"
             ],
             [
              0.5555555555555556,
              "#d8576b"
             ],
             [
              0.6666666666666666,
              "#ed7953"
             ],
             [
              0.7777777777777778,
              "#fb9f3a"
             ],
             [
              0.8888888888888888,
              "#fdca26"
             ],
             [
              1,
              "#f0f921"
             ]
            ],
            "type": "surface"
           }
          ],
          "table": [
           {
            "cells": {
             "fill": {
              "color": "#EBF0F8"
             },
             "line": {
              "color": "white"
             }
            },
            "header": {
             "fill": {
              "color": "#C8D4E3"
             },
             "line": {
              "color": "white"
             }
            },
            "type": "table"
           }
          ]
         },
         "layout": {
          "font": {
           "family": "Franklin Gothic",
           "size": 12
          }
         }
        },
        "title": {
         "text": "Types of Disease"
        },
        "width": 900
       }
      }
     },
     "metadata": {},
     "output_type": "display_data"
    }
   ],
   "source": [
    "temp=dict(layout=go.Layout(font=dict(family=\"Franklin Gothic\", size=12)))\n",
    "disease_count = new_data[\"prognosis\"].value_counts().reset_index()\n",
    "fig = go.Figure()\n",
    "fig.add_trace(go.Bar(\n",
    "    y=disease_count[\"index\"],\n",
    "    x=disease_count[\"prognosis\"],\n",
    "    orientation='h'\n",
    "))\n",
    "\n",
    "fig.update_layout( template=temp, title=\"Types of Disease\", height=1000, width=900)"
   ]
  },
  {
   "cell_type": "code",
   "execution_count": 18,
   "metadata": {},
   "outputs": [],
   "source": [
    "from sklearn.metrics import confusion_matrix\n",
    "from sklearn.metrics import classification_report\n"
   ]
  },
  {
   "cell_type": "code",
   "execution_count": 19,
   "metadata": {},
   "outputs": [],
   "source": [
    "from sklearn.ensemble import RandomForestClassifier\n",
    "model = RandomForestClassifier(n_estimators=100)\n",
    "model.fit(X_train, y_train)\n",
    "y_pred = model.predict(X_test)"
   ]
  },
  {
   "cell_type": "code",
   "execution_count": 20,
   "metadata": {},
   "outputs": [
    {
     "data": {
      "text/plain": [
       "(42, 135)"
      ]
     },
     "execution_count": 20,
     "metadata": {},
     "output_type": "execute_result"
    }
   ],
   "source": [
    "X_test.shape"
   ]
  },
  {
   "cell_type": "code",
   "execution_count": 21,
   "metadata": {},
   "outputs": [
    {
     "data": {
      "text/plain": [
       "<AxesSubplot: >"
      ]
     },
     "execution_count": 21,
     "metadata": {},
     "output_type": "execute_result"
    },
    {
     "data": {
      "image/png": "[encoded data removed]",
      "text/plain": [
       "<Figure size 640x480 with 2 Axes>"
      ]
     },
     "metadata": {},
     "output_type": "display_data"
    }
   ],
   "source": [
    "conf_matrix = confusion_matrix(y_test,y_pred) \n",
    "df_conf = pd.DataFrame(conf_matrix)\n",
    "sns.heatmap(df_conf)"
   ]
  },
  {
   "cell_type": "code",
   "execution_count": 22,
   "metadata": {},
   "outputs": [
    {
     "name": "stdout",
     "output_type": "stream",
     "text": [
      "Classification Report:\n",
      "               precision    recall  f1-score   support\n",
      "\n",
      "           0       1.00      1.00      1.00         1\n",
      "           1       1.00      1.00      1.00         1\n",
      "           2       1.00      1.00      1.00         1\n",
      "           3       1.00      1.00      1.00         1\n",
      "           4       1.00      1.00      1.00         1\n",
      "           5       1.00      1.00      1.00         1\n",
      "           6       1.00      1.00      1.00         1\n",
      "           7       1.00      1.00      1.00         1\n",
      "           8       1.00      1.00      1.00         1\n",
      "           9       1.00      1.00      1.00         1\n",
      "          10       1.00      1.00      1.00         1\n",
      "          11       1.00      1.00      1.00         1\n",
      "          12       1.00      1.00      1.00         1\n",
      "          13       1.00      1.00      1.00         1\n",
      "          14       1.00      1.00      1.00         1\n",
      "          15       1.00      1.00      1.00         1\n",
      "          16       1.00      1.00      1.00         1\n",
      "          17       1.00      1.00      1.00         1\n",
      "          18       1.00      1.00      1.00         1\n",
      "          19       1.00      1.00      1.00         1\n",
      "          20       1.00      1.00      1.00         1\n",
      "          21       1.00      1.00      1.00         1\n",
      "          22       1.00      1.00      1.00         1\n",
      "          23       1.00      1.00      1.00         1\n",
      "          24       1.00      1.00      1.00         1\n",
      "          25       1.00      1.00      1.00         1\n",
      "          26       1.00      1.00      1.00         1\n",
      "          27       1.00      1.00      1.00         1\n",
      "          28       1.00      1.00      1.00         1\n",
      "          29       1.00      1.00      1.00         1\n",
      "          30       1.00      1.00      1.00         1\n",
      "          31       1.00      1.00      1.00         1\n",
      "          32       1.00      1.00      1.00         1\n",
      "          33       1.00      1.00      1.00         1\n",
      "          34       1.00      1.00      1.00         1\n",
      "          35       1.00      1.00      1.00         1\n",
      "          36       1.00      1.00      1.00         1\n",
      "          37       1.00      1.00      1.00         1\n",
      "          38       1.00      1.00      1.00         1\n",
      "          39       1.00      1.00      1.00         1\n",
      "          40       1.00      1.00      1.00         1\n",
      "          41       1.00      1.00      1.00         1\n",
      "\n",
      "    accuracy                           1.00        42\n",
      "   macro avg       1.00      1.00      1.00        42\n",
      "weighted avg       1.00      1.00      1.00        42\n",
      "\n"
     ]
    }
   ],
   "source": [
    "print(\"Classification Report:\\n\",classification_report(y_test, y_pred))"
   ]
  },
  {
   "cell_type": "code",
   "execution_count": 35,
   "metadata": {},
   "outputs": [
    {
     "data": {
      "text/plain": [
       "3"
      ]
     },
     "execution_count": 35,
     "metadata": {},
     "output_type": "execute_result"
    }
   ],
   "source": [
    "x = np.random.randint(0,2,135)\n",
    "x[-1]=6\n",
    "disease = model.predict([x])\n",
    "y[disease[0]]"
   ]
  },
  {
   "cell_type": "code",
   "execution_count": 25,
   "metadata": {},
   "outputs": [],
   "source": [
    "def showdis(i):\n",
    "    for key,val in dic.items():\n",
    "        if val==i:\n",
    "            print(key)"
   ]
  },
  {
   "cell_type": "code",
   "execution_count": 26,
   "metadata": {},
   "outputs": [
    {
     "name": "stdout",
     "output_type": "stream",
     "text": [
      "Acne\n"
     ]
    }
   ],
   "source": [
    "showdis(y[disease[0]])"
   ]
  },
  {
   "cell_type": "code",
   "execution_count": 27,
   "metadata": {},
   "outputs": [
    {
     "data": {
      "text/plain": [
       "['model.joblib']"
      ]
     },
     "execution_count": 27,
     "metadata": {},
     "output_type": "execute_result"
    }
   ],
   "source": [
    "from joblib import dump\n",
    "dump(model, \"model.joblib\")"
   ]
  },
  {
   "cell_type": "code",
   "execution_count": 28,
   "metadata": {},
   "outputs": [
    {
     "data": {
      "text/plain": [
       "['disease.joblib']"
      ]
     },
     "execution_count": 28,
     "metadata": {},
     "output_type": "execute_result"
    }
   ],
   "source": [
    "from joblib import dump\n",
    "dump(dic, \"disease.joblib\")"
   ]
  },
  {
   "cell_type": "code",
   "execution_count": null,
   "metadata": {},
   "outputs": [],
   "source": []
  }
 ],
 "metadata": {
  "kernelspec": {
   "display_name": "Python 3",
   "language": "python",
   "name": "python3"
  },
  "language_info": {
   "codemirror_mode": {
    "name": "ipython",
    "version": 3
   },
   "file_extension": ".py",
   "mimetype": "text/x-python",
   "name": "python",
   "nbconvert_exporter": "python",
   "pygments_lexer": "ipython3",
   "version": "3.10.7"
  },
  "orig_nbformat": 4,
  "vscode": {
   "interpreter": {
    "hash": "d5cc8f536c771a0358b4576103dc0345879617bfdfc7539962347f0c8b6f9905"
   }
  }
 },
 "nbformat": 4,
 "nbformat_minor": 2
}
